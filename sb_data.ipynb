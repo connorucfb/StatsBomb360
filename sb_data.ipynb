{
 "cells": [
  {
   "cell_type": "code",
   "execution_count": 1,
   "id": "6f7e12bc-7e1a-4f63-8217-42c75c9d2ea3",
   "metadata": {},
   "outputs": [],
   "source": [
    "import pandas as pd\n",
    "from statsbombpy import sb\n",
    "from mplsoccer import pitch\n",
    "\n",
    "# sb.competitions()\n",
    "# sb.matches(competition_id=72, season_id=107)"
   ]
  },
  {
   "cell_type": "code",
   "execution_count": 7,
   "id": "86ae8e9e-9aab-43d2-870a-1980554ab8eb",
   "metadata": {},
   "outputs": [],
   "source": [
    "MATCH_ID = 3904629\n",
    "\n",
    "match_events_df = sb.events(match_id=MATCH_ID)\n",
    "\n",
    "match_360_df = pd.read_json(\n",
    "    f'C:/Users/conno/Documents/Education/GIS/Applied Research Project/open-data/data/three-sixty/{MATCH_ID}.json'\n",
    ")\n",
    "\n",
    "df = pd.merge(left = match_events_df, right = match_360_df, left_on = 'id', right_on = 'event_uuid', how = 'left')"
   ]
  },
  {
   "cell_type": "code",
   "execution_count": 8,
   "id": "907a6d95-9dfa-427e-a1ad-3cb182fb129a",
   "metadata": {},
   "outputs": [],
   "source": [
    "# Export DataFrame to an Excel file\n",
    "# output_file = \"test_events.xlsx\"\n",
    "# df.to_excel(output_file, index=False, sheet_name=\"Sheet1\")"
   ]
  }
 ],
 "metadata": {
  "kernelspec": {
   "display_name": "Python 3 (ipykernel)",
   "language": "python",
   "name": "python3"
  },
  "language_info": {
   "codemirror_mode": {
    "name": "ipython",
    "version": 3
   },
   "file_extension": ".py",
   "mimetype": "text/x-python",
   "name": "python",
   "nbconvert_exporter": "python",
   "pygments_lexer": "ipython3",
   "version": "3.11.7"
  }
 },
 "nbformat": 4,
 "nbformat_minor": 5
}
